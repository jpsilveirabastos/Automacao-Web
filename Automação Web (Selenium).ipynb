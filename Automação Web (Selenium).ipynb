{
 "cells": [
  {
   "cell_type": "markdown",
   "id": "402cfff0-5c6a-4490-a6f9-f1b0d715d689",
   "metadata": {},
   "source": [
    "# Projeto Automação Web (Selenium)\n",
    "\n",
    "#### Etapas do projeto:\n",
    "1. Importar bibliotecas e planilha\n",
    "2. Percorrer cada linha da planilha\n",
    "3. Pegar preço de cada loja\n",
    "4. Registrar o menor preço\n",
    "5. Registrar local de menor preço\n",
    "6. Salvar planilha e enviar e-mail caso exista algum produto com pelo menos 20% de desconto\n",
    "\n",
    "Obs: Os links utilizados neste projeto podem sofrer alterações"
   ]
  },
  {
   "cell_type": "markdown",
   "id": "a9fb3b35-5546-4c2c-8c38-d3ca27fdbfcb",
   "metadata": {},
   "source": [
    "### Importando bibliotecas"
   ]
  },
  {
   "cell_type": "code",
   "execution_count": 6,
   "id": "d6f48c0d-485e-4469-82ef-d6dd236e4bed",
   "metadata": {},
   "outputs": [
    {
     "data": {
      "text/html": [
       "<div>\n",
       "<style scoped>\n",
       "    .dataframe tbody tr th:only-of-type {\n",
       "        vertical-align: middle;\n",
       "    }\n",
       "\n",
       "    .dataframe tbody tr th {\n",
       "        vertical-align: top;\n",
       "    }\n",
       "\n",
       "    .dataframe thead th {\n",
       "        text-align: right;\n",
       "    }\n",
       "</style>\n",
       "<table border=\"1\" class=\"dataframe\">\n",
       "  <thead>\n",
       "    <tr style=\"text-align: right;\">\n",
       "      <th></th>\n",
       "      <th>Link Produto</th>\n",
       "      <th>Amazon</th>\n",
       "      <th>Lojas Americanas</th>\n",
       "      <th>Magazine Luiza</th>\n",
       "      <th>Preço Original</th>\n",
       "      <th>Preço Atual</th>\n",
       "      <th>Local</th>\n",
       "    </tr>\n",
       "  </thead>\n",
       "  <tbody>\n",
       "    <tr>\n",
       "      <th>0</th>\n",
       "      <td>iPhone 11 Apple 64GB Preto</td>\n",
       "      <td>https://www.amazon.com.br/IPHONE-11-PRETO-TELA...</td>\n",
       "      <td>https://www.americanas.com.br/produto/16113159...</td>\n",
       "      <td>https://www.magazineluiza.com.br/iphone-11-app...</td>\n",
       "      <td>5297</td>\n",
       "      <td>-</td>\n",
       "      <td>-</td>\n",
       "    </tr>\n",
       "    <tr>\n",
       "      <th>1</th>\n",
       "      <td>Smart TV LED 50'' LG Ultra HD 4K Thinq AI</td>\n",
       "      <td>https://www.amazon.com.br/Smart-LG-Intelig%C3%...</td>\n",
       "      <td>https://www.americanas.com.br/produto/49516150...</td>\n",
       "      <td>https://www.magazineluiza.com.br/smart-tv-uhd-...</td>\n",
       "      <td>2900</td>\n",
       "      <td>-</td>\n",
       "      <td>-</td>\n",
       "    </tr>\n",
       "  </tbody>\n",
       "</table>\n",
       "</div>"
      ],
      "text/plain": [
       "                                Link Produto  \\\n",
       "0                 iPhone 11 Apple 64GB Preto   \n",
       "1  Smart TV LED 50'' LG Ultra HD 4K Thinq AI   \n",
       "\n",
       "                                              Amazon  \\\n",
       "0  https://www.amazon.com.br/IPHONE-11-PRETO-TELA...   \n",
       "1  https://www.amazon.com.br/Smart-LG-Intelig%C3%...   \n",
       "\n",
       "                                    Lojas Americanas  \\\n",
       "0  https://www.americanas.com.br/produto/16113159...   \n",
       "1  https://www.americanas.com.br/produto/49516150...   \n",
       "\n",
       "                                      Magazine Luiza  Preço Original  \\\n",
       "0  https://www.magazineluiza.com.br/iphone-11-app...            5297   \n",
       "1  https://www.magazineluiza.com.br/smart-tv-uhd-...            2900   \n",
       "\n",
       "  Preço Atual Local  \n",
       "0           -     -  \n",
       "1           -     -  "
      ]
     },
     "metadata": {},
     "output_type": "display_data"
    }
   ],
   "source": [
    "import pandas as pd\n",
    "from selenium import webdriver\n",
    "import yagmail\n",
    "\n",
    "produtos = pd.read_excel(r'C:\\Users\\jp_si\\Downloads\\Projeto Automação Web\\Produtos.xlsx')\n",
    "produtos = produtos.fillna('-')\n",
    "display(produtos)\n",
    "\n"
   ]
  },
  {
   "cell_type": "code",
   "execution_count": null,
   "id": "fe28547d-20ee-45ac-a8c7-09cb1e9b35ad",
   "metadata": {},
   "outputs": [],
   "source": [
    "def transformar_texto(texto):\n",
    "    return float(texto.replace('R$', '').replace('.', '').replace(',', '.'))"
   ]
  },
  {
   "cell_type": "code",
   "execution_count": 11,
   "id": "3f087910-6d66-456c-bcf1-aca7c8c8a8dc",
   "metadata": {},
   "outputs": [],
   "source": [
    "driver = webdriver.Chrome()\n",
    "driver.set_window_position(-10000,0)\n",
    "\n",
    "enviar_email = False\n",
    "desconto_min = 0.2\n",
    "\n",
    "for i, linha in produtos.iterrows():\n",
    "    #pegar preço amazon\n",
    "    driver.get(linha['Amazon'])\n",
    "    try:\n",
    "        preco_amazon = driver.find_element_by_id('priceblock_ourprice').text\n",
    "        preco_amazon = transformar_texto(preco_amazon)\n",
    "    except:\n",
    "        try:\n",
    "            preco_amazon = driver.find_element_by_css_selector('#olp-upd-new span.a-size-base').text\n",
    "            preco_amazon = transformar_texto(preco_amazon)\n",
    "        except:\n",
    "            print('Produto {} não disponível na Amazon'.format(linha['Link Produto']))\n",
    "            preco_amazon = linha['Preço Original'] * 3\n",
    "    \n",
    "\n",
    "    #pegar o preço da lame\n",
    "    driver.get(linha['Lojas Americanas'])\n",
    "    try:\n",
    "        preco_lame = driver.find_element_by_class_name('src__BestPrice-lo2vta-5').text\n",
    "        preco_lame = transformar_texto(preco_lame)\n",
    "    except:\n",
    "        print('Produto {} não disponível na Lojas Americanas'.format(linha['Link Produto']))\n",
    "        preco_lame = linha['Preço Original'] * 3\n",
    "        \n",
    "    #pegar o preço da mglu\n",
    "    driver.get(linha['Magazine Luiza'])\n",
    "    try:\n",
    "        preco_mglu = driver.find_element_by_class_name('price-template__text').text\n",
    "        preco_mglu = transformar_texto(preco_mglu)\n",
    "    except:\n",
    "        print('Produto {} não disponível na Magazine Luiza'.format(linha['Link Produto']))\n",
    "        preco_mglu = linha['Preço Original'] * 3\n",
    "\n",
    "    preco_original = linha['Preço Original']\n",
    "    \n",
    "    lista_precos = [(preco_amazon, 'Amazon'), (preco_lame, 'Lojas Americanas'), (preco_mglu, 'Magazine Luiza'), (preco_original, 'Original')]\n",
    "    \n",
    "    lista_precos.sort()\n",
    "    \n",
    "    produtos.loc[i, 'Preço Atual'] = lista_precos[0][0]\n",
    "    produtos.loc[i, 'Local'] = lista_precos[0][1]\n",
    "    \n",
    "    if lista_precos[0][0] <= preco_original*(1-desconto_min):\n",
    "        enviar_email = True\n",
    "    "
   ]
  },
  {
   "cell_type": "markdown",
   "id": "bbdc95d6-27e6-4ee3-aee2-54312170a8fd",
   "metadata": {},
   "source": [
    "### Enviar E-mail"
   ]
  },
  {
   "cell_type": "code",
   "execution_count": null,
   "id": "377eab35-2886-430a-9aaf-dbe7ce68275d",
   "metadata": {},
   "outputs": [],
   "source": [
    "usuario = yagmail.SMTP(user='jpsilveirabastos@gmail.com', password='*********')\n",
    "\n",
    "#salvar o arquivo\n",
    "produtos.to_excel('C:\\Users\\jp_si\\Downloads\\Projeto Automação Web\\Produtos.xlsx')\n",
    "\n",
    "if enviar_email:\n",
    "    email = 'chinatradebr@gmail.com'\n",
    "    assunto = f'Produto(s) Encontrado(s) com mais de {desconto_min:.0%} de Desconto'\n",
    "    \n",
    "     #filtrar a tabela de produtos\n",
    "    tabela_filtrada = produtos.loc[produtos['Preço Atual'] <= produtos['Preço Original']*(1-desconto_min), :]\n",
    "\n",
    "    texto = f'<p>Esses sãos os produtos com mais de {desconto_min:.0%} de desconto</p>{tabela_filtrada.to_html()}'\n",
    "    \n",
    "    usuario.send(to=email, subject=assunto, contents=texto)\n",
    "    \n",
    "driver.quit()"
   ]
  }
 ],
 "metadata": {
  "kernelspec": {
   "display_name": "Python 3",
   "language": "python",
   "name": "python3"
  },
  "language_info": {
   "codemirror_mode": {
    "name": "ipython",
    "version": 3
   },
   "file_extension": ".py",
   "mimetype": "text/x-python",
   "name": "python",
   "nbconvert_exporter": "python",
   "pygments_lexer": "ipython3",
   "version": "3.8.8"
  }
 },
 "nbformat": 4,
 "nbformat_minor": 5
}
